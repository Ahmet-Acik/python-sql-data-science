{
 "cells": [
  {
   "cell_type": "markdown",
   "id": "3a7d634c",
   "metadata": {},
   "source": [
    "# Python-SQL-Data-Science Workspace Setup\n",
    "\n",
    "This notebook will guide you through setting up a new workspace for Python, SQL, and Data Science development. Follow each section to prepare your environment for efficient and reproducible analysis."
   ]
  },
  {
   "cell_type": "markdown",
   "id": "0e1056bb",
   "metadata": {},
   "source": [
    "## 1. Create a New Workspace Directory\n",
    "\n",
    "Use Python's `os` and `pathlib` modules to create a new directory for your workspace. This ensures your project files are organized in a dedicated location."
   ]
  },
  {
   "cell_type": "code",
   "execution_count": null,
   "id": "0853fa22",
   "metadata": {},
   "outputs": [],
   "source": [
    "import os\n",
    "from pathlib import Path\n",
    "\n",
    "# Define the workspace directory name\n",
    "workspace_dir = Path.cwd() / \"my_data_science_project\"\n",
    "\n",
    "# Create the directory if it doesn't exist\n",
    "workspace_dir.mkdir(exist_ok=True)\n",
    "print(f\"Workspace directory created at: {workspace_dir}\")"
   ]
  },
  {
   "cell_type": "markdown",
   "id": "2733c45a",
   "metadata": {},
   "source": [
    "## 2. Initialize a Git Repository\n",
    "\n",
    "Initialize a new Git repository in your workspace directory to enable version control for your project files."
   ]
  },
  {
   "cell_type": "code",
   "execution_count": null,
   "id": "4e1ef238",
   "metadata": {},
   "outputs": [],
   "source": [
    "import subprocess\n",
    "\n",
    "# Change to the workspace directory\n",
    "os.chdir(workspace_dir)\n",
    "\n",
    "# Initialize git repository\n",
    "subprocess.run([\"git\", \"init\"], check=True)\n",
    "print(f\"Initialized empty Git repository in {workspace_dir}\")"
   ]
  },
  {
   "cell_type": "markdown",
   "id": "43825853",
   "metadata": {},
   "source": [
    "## 3. Set Up a Python Virtual Environment\n",
    "\n",
    "Create and activate a Python virtual environment in your workspace to isolate dependencies and ensure reproducibility."
   ]
  },
  {
   "cell_type": "code",
   "execution_count": null,
   "id": "3d349844",
   "metadata": {},
   "outputs": [],
   "source": [
    "import sys\n",
    "\n",
    "# Create a virtual environment in the workspace directory\n",
    "venv_dir = workspace_dir / \".venv\"\n",
    "subprocess.run([sys.executable, \"-m\", \"venv\", str(venv_dir)], check=True)\n",
    "print(f\"Virtual environment created at: {venv_dir}\")"
   ]
  },
  {
   "cell_type": "markdown",
   "id": "b2968573",
   "metadata": {},
   "source": [
    "## 4. Install Essential Packages\n",
    "\n",
    "Use pip to install essential packages for data science and SQL workflows, such as numpy, pandas, SQLAlchemy, jupyter, and database connectors."
   ]
  },
  {
   "cell_type": "code",
   "execution_count": null,
   "id": "68d22351",
   "metadata": {},
   "outputs": [],
   "source": [
    "# Install essential packages in the virtual environment\n",
    "pip_path = venv_dir / \"bin\" / \"pip\"\n",
    "subprocess.run([str(pip_path), \"install\", \"--upgrade\", \"pip\"], check=True)\n",
    "subprocess.run([str(pip_path), \"install\", \"numpy\", \"pandas\", \"sqlalchemy\", \"jupyter\", \"ipython\", \"matplotlib\", \"mysql-connector-python\", \"sqlite3\"], check=True)\n",
    "print(\"Essential packages installed.\")"
   ]
  },
  {
   "cell_type": "markdown",
   "id": "cdc1f65d",
   "metadata": {},
   "source": [
    "## 5. Configure VS Code Workspace Settings\n",
    "\n",
    "Set up VS Code workspace settings to use the correct Python interpreter and configure other preferences for data science development."
   ]
  },
  {
   "cell_type": "code",
   "execution_count": null,
   "id": "abbd6ed0",
   "metadata": {},
   "outputs": [],
   "source": [
    "import json\n",
    "vscode_dir = workspace_dir / \".vscode\"\n",
    "vscode_dir.mkdir(exist_ok=True)\n",
    "settings_path = vscode_dir / \"settings.json\"\n",
    "\n",
    "# Set the Python interpreter to the virtual environment\n",
    "settings = {\n",
    "    \"python.pythonPath\": str(venv_dir / \"bin\" / \"python\"),\n",
    "    \"python.formatting.provider\": \"black\",\n",
    "    \"python.linting.enabled\": True,\n",
    "    \"python.linting.pylintEnabled\": True,\n",
    "    \"jupyter.jupyterServerType\": \"local\"\n",
    "}\n",
    "with open(settings_path, \"w\") as f:\n",
    "    json.dump(settings, f, indent=4)\n",
    "print(f\"VS Code workspace settings written to {settings_path}\")"
   ]
  }
 ],
 "metadata": {
  "language_info": {
   "name": "python"
  }
 },
 "nbformat": 4,
 "nbformat_minor": 5
}
